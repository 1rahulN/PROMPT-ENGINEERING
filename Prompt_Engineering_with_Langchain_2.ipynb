{
 "cells": [
  {
   "cell_type": "code",
   "execution_count": null,
   "metadata": {
    "colab_type": "text",
    "id": "view-in-github"
   },
   "outputs": [],
   "source": [
    "openai.api_key=\"fsdkfjas\"\n",
    "prompt=\"text\"\n",
    "engine = \"text-davinci-003\"\n",
    "response = openai.Completion.create(engine,prompt)\n",
    "response.choices[0].text"
   ]
  },
  {
   "cell_type": "code",
   "execution_count": null,
   "metadata": {},
   "outputs": [],
   "source": []
  },
  {
   "cell_type": "markdown",
   "metadata": {
    "id": "2lnpTzH2vYo0"
   },
   "source": [
    "### Prompt Engineering\n"
   ]
  },
  {
   "cell_type": "code",
   "execution_count": 33,
   "metadata": {
    "id": "eebwdavgvYpC"
   },
   "outputs": [
    {
     "name": "stdout",
     "output_type": "stream",
     "text": [
      "Requirement already satisfied: openai in c:\\users\\rooman\\anaconda3\\lib\\site-packages (0.28.1)\n",
      "Collecting openai\n",
      "  Downloading openai-1.29.0-py3-none-any.whl (320 kB)\n",
      "     -------------------------------------- 320.3/320.3 kB 2.8 MB/s eta 0:00:00\n",
      "Collecting httpx<1,>=0.23.0\n",
      "  Downloading httpx-0.27.0-py3-none-any.whl (75 kB)\n",
      "     ---------------------------------------- 75.6/75.6 kB 1.4 MB/s eta 0:00:00\n",
      "Collecting distro<2,>=1.7.0\n",
      "  Downloading distro-1.9.0-py3-none-any.whl (20 kB)\n",
      "Requirement already satisfied: anyio<5,>=3.5.0 in c:\\users\\rooman\\anaconda3\\lib\\site-packages (from openai) (3.5.0)\n",
      "Requirement already satisfied: tqdm>4 in c:\\users\\rooman\\anaconda3\\lib\\site-packages (from openai) (4.64.1)\n",
      "Requirement already satisfied: sniffio in c:\\users\\rooman\\anaconda3\\lib\\site-packages (from openai) (1.2.0)\n",
      "Requirement already satisfied: typing-extensions<5,>=4.7 in c:\\users\\rooman\\anaconda3\\lib\\site-packages (from openai) (4.10.0)\n",
      "Requirement already satisfied: pydantic<3,>=1.9.0 in c:\\users\\rooman\\anaconda3\\lib\\site-packages (from openai) (1.10.14)\n",
      "Requirement already satisfied: idna>=2.8 in c:\\users\\rooman\\anaconda3\\lib\\site-packages (from anyio<5,>=3.5.0->openai) (3.3)\n",
      "Requirement already satisfied: certifi in c:\\users\\rooman\\anaconda3\\lib\\site-packages (from httpx<1,>=0.23.0->openai) (2022.9.14)\n",
      "Collecting httpcore==1.*\n",
      "  Downloading httpcore-1.0.5-py3-none-any.whl (77 kB)\n",
      "     ---------------------------------------- 77.9/77.9 kB 1.4 MB/s eta 0:00:00\n",
      "Collecting h11<0.15,>=0.13\n",
      "  Downloading h11-0.14.0-py3-none-any.whl (58 kB)\n",
      "     ---------------------------------------- 58.3/58.3 kB 1.5 MB/s eta 0:00:00\n"
     ]
    },
    {
     "name": "stderr",
     "output_type": "stream",
     "text": [
      "WARNING: Ignoring invalid distribution -orch (c:\\users\\rooman\\anaconda3\\lib\\site-packages)\n",
      "WARNING: Ignoring invalid distribution -orch (c:\\users\\rooman\\anaconda3\\lib\\site-packages)\n",
      "WARNING: Ignoring invalid distribution -orch (c:\\users\\rooman\\anaconda3\\lib\\site-packages)\n",
      "    WARNING: Ignoring invalid distribution -orch (c:\\users\\rooman\\anaconda3\\lib\\site-packages)\n",
      "WARNING: Ignoring invalid distribution -orch (c:\\users\\rooman\\anaconda3\\lib\\site-packages)\n",
      "WARNING: Ignoring invalid distribution -orch (c:\\users\\rooman\\anaconda3\\lib\\site-packages)\n",
      "WARNING: Ignoring invalid distribution -orch (c:\\users\\rooman\\anaconda3\\lib\\site-packages)\n",
      "WARNING: Ignoring invalid distribution -orch (c:\\users\\rooman\\anaconda3\\lib\\site-packages)\n",
      "WARNING: Ignoring invalid distribution -orch (c:\\users\\rooman\\anaconda3\\lib\\site-packages)\n",
      "ERROR: pip's dependency resolver does not currently take into account all the packages that are installed. This behaviour is the source of the following dependency conflicts.\n",
      "dspy-ai 2.4.0 requires datasets<3.0.0,~=2.14.6, but you have datasets 2.18.0 which is incompatible.\n",
      "dspy-ai 2.4.0 requires pydantic==2.5.0, but you have pydantic 1.10.14 which is incompatible.\n",
      "WARNING: Ignoring invalid distribution -orch (c:\\users\\rooman\\anaconda3\\lib\\site-packages)\n",
      "WARNING: Ignoring invalid distribution -orch (c:\\users\\rooman\\anaconda3\\lib\\site-packages)\n",
      "WARNING: Ignoring invalid distribution -orch (c:\\users\\rooman\\anaconda3\\lib\\site-packages)\n"
     ]
    },
    {
     "name": "stdout",
     "output_type": "stream",
     "text": [
      "Requirement already satisfied: colorama in c:\\users\\rooman\\anaconda3\\lib\\site-packages (from tqdm>4->openai) (0.4.6)\n",
      "Installing collected packages: h11, distro, httpcore, httpx, openai\n",
      "  Attempting uninstall: openai\n",
      "    Found existing installation: openai 0.28.1\n",
      "    Uninstalling openai-0.28.1:\n",
      "      Successfully uninstalled openai-0.28.1\n",
      "Successfully installed distro-1.9.0 h11-0.14.0 httpcore-1.0.5 httpx-0.27.0 openai-1.29.0\n",
      "Requirement already satisfied: langchain in c:\\users\\rooman\\anaconda3\\lib\\site-packages (0.0.330)\n",
      "Collecting langchain\n",
      "  Downloading langchain-0.1.20-py3-none-any.whl (1.0 MB)\n",
      "     ---------------------------------------- 1.0/1.0 MB 3.6 MB/s eta 0:00:00\n",
      "Requirement already satisfied: PyYAML>=5.3 in c:\\users\\rooman\\anaconda3\\lib\\site-packages (from langchain) (6.0)\n",
      "Requirement already satisfied: aiohttp<4.0.0,>=3.8.3 in c:\\users\\rooman\\anaconda3\\lib\\site-packages (from langchain) (3.8.5)\n",
      "Requirement already satisfied: pydantic<3,>=1 in c:\\users\\rooman\\anaconda3\\lib\\site-packages (from langchain) (1.10.14)\n",
      "Collecting langchain-community<0.1,>=0.0.38\n",
      "  Downloading langchain_community-0.0.38-py3-none-any.whl (2.0 MB)\n",
      "     ---------------------------------------- 2.0/2.0 MB 4.0 MB/s eta 0:00:00\n",
      "Collecting langchain-text-splitters<0.1,>=0.0.1\n",
      "  Downloading langchain_text_splitters-0.0.1-py3-none-any.whl (21 kB)\n",
      "Requirement already satisfied: requests<3,>=2 in c:\\users\\rooman\\anaconda3\\lib\\site-packages (from langchain) (2.28.1)\n",
      "Requirement already satisfied: SQLAlchemy<3,>=1.4 in c:\\users\\rooman\\anaconda3\\lib\\site-packages (from langchain) (1.4.39)\n",
      "Collecting langchain-core<0.2.0,>=0.1.52\n",
      "  Downloading langchain_core-0.1.52-py3-none-any.whl (302 kB)\n",
      "     -------------------------------------- 302.9/302.9 kB 3.1 MB/s eta 0:00:00\n",
      "Requirement already satisfied: tenacity<9.0.0,>=8.1.0 in c:\\users\\rooman\\anaconda3\\lib\\site-packages (from langchain) (8.2.2)\n",
      "Collecting langsmith<0.2.0,>=0.1.17\n",
      "  Downloading langsmith-0.1.57-py3-none-any.whl (121 kB)\n",
      "     -------------------------------------- 121.0/121.0 kB 1.4 MB/s eta 0:00:00\n",
      "Requirement already satisfied: numpy<2,>=1 in c:\\users\\rooman\\anaconda3\\lib\\site-packages (from langchain) (1.23.0)\n",
      "Requirement already satisfied: dataclasses-json<0.7,>=0.5.7 in c:\\users\\rooman\\anaconda3\\lib\\site-packages (from langchain) (0.5.14)\n",
      "Requirement already satisfied: async-timeout<5.0.0,>=4.0.0 in c:\\users\\rooman\\anaconda3\\lib\\site-packages (from langchain) (4.0.2)\n",
      "Requirement already satisfied: frozenlist>=1.1.1 in c:\\users\\rooman\\anaconda3\\lib\\site-packages (from aiohttp<4.0.0,>=3.8.3->langchain) (1.4.0)\n",
      "Requirement already satisfied: yarl<2.0,>=1.0 in c:\\users\\rooman\\anaconda3\\lib\\site-packages (from aiohttp<4.0.0,>=3.8.3->langchain) (1.9.2)\n",
      "Requirement already satisfied: charset-normalizer<4.0,>=2.0 in c:\\users\\rooman\\anaconda3\\lib\\site-packages (from aiohttp<4.0.0,>=3.8.3->langchain) (2.0.4)\n",
      "Requirement already satisfied: attrs>=17.3.0 in c:\\users\\rooman\\anaconda3\\lib\\site-packages (from aiohttp<4.0.0,>=3.8.3->langchain) (23.1.0)\n",
      "Requirement already satisfied: aiosignal>=1.1.2 in c:\\users\\rooman\\anaconda3\\lib\\site-packages (from aiohttp<4.0.0,>=3.8.3->langchain) (1.3.1)\n",
      "Requirement already satisfied: multidict<7.0,>=4.5 in c:\\users\\rooman\\anaconda3\\lib\\site-packages (from aiohttp<4.0.0,>=3.8.3->langchain) (6.0.4)\n",
      "Requirement already satisfied: marshmallow<4.0.0,>=3.18.0 in c:\\users\\rooman\\anaconda3\\lib\\site-packages (from dataclasses-json<0.7,>=0.5.7->langchain) (3.20.1)\n",
      "Requirement already satisfied: typing-inspect<1,>=0.4.0 in c:\\users\\rooman\\anaconda3\\lib\\site-packages (from dataclasses-json<0.7,>=0.5.7->langchain) (0.9.0)\n",
      "Requirement already satisfied: jsonpatch<2.0,>=1.33 in c:\\users\\rooman\\anaconda3\\lib\\site-packages (from langchain-core<0.2.0,>=0.1.52->langchain) (1.33)\n",
      "Collecting packaging<24.0,>=23.2\n",
      "  Downloading packaging-23.2-py3-none-any.whl (53 kB)\n",
      "     -------------------------------------- 53.0/53.0 kB 274.2 kB/s eta 0:00:00\n",
      "Collecting orjson<4.0.0,>=3.9.14\n",
      "  Downloading orjson-3.10.3-cp39-none-win_amd64.whl (138 kB)\n",
      "     -------------------------------------- 138.6/138.6 kB 2.1 MB/s eta 0:00:00\n",
      "Requirement already satisfied: typing-extensions>=4.2.0 in c:\\users\\rooman\\anaconda3\\lib\\site-packages (from pydantic<3,>=1->langchain) (4.10.0)\n",
      "Requirement already satisfied: idna<4,>=2.5 in c:\\users\\rooman\\anaconda3\\lib\\site-packages (from requests<3,>=2->langchain) (3.3)\n",
      "Requirement already satisfied: urllib3<1.27,>=1.21.1 in c:\\users\\rooman\\anaconda3\\lib\\site-packages (from requests<3,>=2->langchain) (1.26.11)\n",
      "Requirement already satisfied: certifi>=2017.4.17 in c:\\users\\rooman\\anaconda3\\lib\\site-packages (from requests<3,>=2->langchain) (2022.9.14)\n",
      "Requirement already satisfied: greenlet!=0.4.17 in c:\\users\\rooman\\anaconda3\\lib\\site-packages (from SQLAlchemy<3,>=1.4->langchain) (1.1.1)\n",
      "Requirement already satisfied: jsonpointer>=1.9 in c:\\users\\rooman\\anaconda3\\lib\\site-packages (from jsonpatch<2.0,>=1.33->langchain-core<0.2.0,>=0.1.52->langchain) (2.4)\n",
      "Requirement already satisfied: mypy-extensions>=0.3.0 in c:\\users\\rooman\\anaconda3\\lib\\site-packages (from typing-inspect<1,>=0.4.0->dataclasses-json<0.7,>=0.5.7->langchain) (0.4.3)\n",
      "Installing collected packages: packaging, orjson, langsmith, langchain-core, langchain-text-splitters, langchain-community, langchain"
     ]
    },
    {
     "name": "stderr",
     "output_type": "stream",
     "text": [
      "WARNING: Ignoring invalid distribution -orch (c:\\users\\rooman\\anaconda3\\lib\\site-packages)\n",
      "WARNING: Ignoring invalid distribution -orch (c:\\users\\rooman\\anaconda3\\lib\\site-packages)\n",
      "WARNING: Ignoring invalid distribution -orch (c:\\users\\rooman\\anaconda3\\lib\\site-packages)\n",
      "    WARNING: Ignoring invalid distribution -orch (c:\\users\\rooman\\anaconda3\\lib\\site-packages)\n",
      "    WARNING: Ignoring invalid distribution -orch (c:\\users\\rooman\\anaconda3\\lib\\site-packages)\n",
      "    WARNING: Ignoring invalid distribution -orch (c:\\users\\rooman\\anaconda3\\lib\\site-packages)\n",
      "WARNING: Ignoring invalid distribution -orch (c:\\users\\rooman\\anaconda3\\lib\\site-packages)\n",
      "WARNING: Ignoring invalid distribution -orch (c:\\users\\rooman\\anaconda3\\lib\\site-packages)\n",
      "WARNING: Ignoring invalid distribution -orch (c:\\users\\rooman\\anaconda3\\lib\\site-packages)\n",
      "WARNING: Ignoring invalid distribution -orch (c:\\users\\rooman\\anaconda3\\lib\\site-packages)\n",
      "WARNING: Ignoring invalid distribution -orch (c:\\users\\rooman\\anaconda3\\lib\\site-packages)\n",
      "WARNING: Ignoring invalid distribution -orch (c:\\users\\rooman\\anaconda3\\lib\\site-packages)\n",
      "WARNING: Ignoring invalid distribution -orch (c:\\users\\rooman\\anaconda3\\lib\\site-packages)\n",
      "ERROR: pip's dependency resolver does not currently take into account all the packages that are installed. This behaviour is the source of the following dependency conflicts.\n",
      "dspy-ai 2.4.0 requires datasets<3.0.0,~=2.14.6, but you have datasets 2.18.0 which is incompatible.\n",
      "dspy-ai 2.4.0 requires pydantic==2.5.0, but you have pydantic 1.10.14 which is incompatible.\n",
      "WARNING: Ignoring invalid distribution -orch (c:\\users\\rooman\\anaconda3\\lib\\site-packages)\n",
      "WARNING: Ignoring invalid distribution -orch (c:\\users\\rooman\\anaconda3\\lib\\site-packages)\n",
      "WARNING: Ignoring invalid distribution -orch (c:\\users\\rooman\\anaconda3\\lib\\site-packages)\n"
     ]
    },
    {
     "name": "stdout",
     "output_type": "stream",
     "text": [
      "\n",
      "  Attempting uninstall: packaging\n",
      "    Found existing installation: packaging 21.3\n",
      "    Uninstalling packaging-21.3:\n",
      "      Successfully uninstalled packaging-21.3\n",
      "  Attempting uninstall: langsmith\n",
      "    Found existing installation: langsmith 0.0.57\n",
      "    Uninstalling langsmith-0.0.57:\n",
      "      Successfully uninstalled langsmith-0.0.57\n",
      "  Attempting uninstall: langchain\n",
      "    Found existing installation: langchain 0.0.330\n",
      "    Uninstalling langchain-0.0.330:\n",
      "      Successfully uninstalled langchain-0.0.330\n",
      "Successfully installed langchain-0.1.20 langchain-community-0.0.38 langchain-core-0.1.52 langchain-text-splitters-0.0.1 langsmith-0.1.57 orjson-3.10.3 packaging-23.2\n"
     ]
    }
   ],
   "source": [
    "!pip install --upgrade openai\n",
    "!pip install --upgrade langchain"
   ]
  },
  {
   "cell_type": "code",
   "execution_count": 6,
   "metadata": {
    "id": "xrbqQs9AvYpJ"
   },
   "outputs": [],
   "source": [
    "import openai\n",
    "import os"
   ]
  },
  {
   "cell_type": "code",
   "execution_count": 9,
   "metadata": {},
   "outputs": [],
   "source": [
    "openai.api_key = os.getenv('OPENAI_API_KEY')"
   ]
  },
  {
   "cell_type": "code",
   "execution_count": 20,
   "metadata": {},
   "outputs": [],
   "source": [
    "# openai.__dict__"
   ]
  },
  {
   "cell_type": "code",
   "execution_count": 12,
   "metadata": {},
   "outputs": [],
   "source": [
    "openai.api_key"
   ]
  },
  {
   "cell_type": "code",
   "execution_count": 2,
   "metadata": {
    "id": "xrbqQs9AvYpJ"
   },
   "outputs": [],
   "source": [
    "import IPython\n",
    "from langchain.llms import OpenAI"
   ]
  },
  {
   "cell_type": "code",
   "execution_count": 4,
   "metadata": {
    "colab": {
     "base_uri": "https://localhost:8080/"
    },
    "id": "rjgIZtHWvYpM",
    "outputId": "dc47d04b-6d0f-4ae1-e646-ca62e551d7b0"
   },
   "outputs": [],
   "source": [
    "# !pip install --upgrade python-dotenv"
   ]
  },
  {
   "cell_type": "code",
   "execution_count": null,
   "metadata": {
    "colab": {
     "base_uri": "https://localhost:8080/"
    },
    "id": "rjgIZtHWvYpM",
    "outputId": "dc47d04b-6d0f-4ae1-e646-ca62e551d7b0"
   },
   "outputs": [],
   "source": [
    "from dotenv import load_dotenv\n",
    "load_dotenv()"
   ]
  },
  {
   "cell_type": "code",
   "execution_count": 6,
   "metadata": {
    "colab": {
     "base_uri": "https://localhost:8080/"
    },
    "id": "rjgIZtHWvYpM",
    "outputId": "dc47d04b-6d0f-4ae1-e646-ca62e551d7b0"
   },
   "outputs": [],
   "source": [
    "# API configuration\n",
    "openai.api_key = os.getenv(\"OPENAI_API_KEY\")\n",
    "\n",
    "# for LangChain\n",
    "os.environ[\"OPENAI_API_KEY\"] = os.getenv(\"OPENAI_API_KEY\")\n",
    "# os.environ[\"SERPAPI_API_KEY\"] = os.getenv(\"SERPER_API_KEY\")"
   ]
  },
  {
   "cell_type": "code",
   "execution_count": 27,
   "metadata": {},
   "outputs": [],
   "source": [
    "def newdc(a=10,b=20):\n",
    "    par = {}\n",
    "    par['first'] = a\n",
    "    par['second'] = b\n",
    "    \n",
    "    return par"
   ]
  },
  {
   "cell_type": "code",
   "execution_count": 31,
   "metadata": {},
   "outputs": [
    {
     "data": {
      "text/plain": [
       "{'first': 10, 'second': 20}"
      ]
     },
     "execution_count": 31,
     "metadata": {},
     "output_type": "execute_result"
    }
   ],
   "source": [
    "newdc()"
   ]
  },
  {
   "cell_type": "code",
   "execution_count": null,
   "metadata": {
    "id": "d5v0pjHivYpO"
   },
   "outputs": [],
   "source": [
    "def set_open_params(\n",
    "    model=\"text-davinci-003\",\n",
    "    chat_model=\"gpt-4\",\n",
    "    temperature=0.7,\n",
    "    max_tokens=1000,\n",
    "    top_p=1,\n",
    "    frequency_penalty=0,\n",
    "    presence_penalty=0,\n",
    "):\n",
    "    \"\"\" set openai parameters\"\"\"\n",
    "\n",
    "    openai_params = {}\n",
    "\n",
    "    openai_params['model'] = model\n",
    "    openai_params['chat_model'] = chat_model\n",
    "    openai_params['temperature'] = temperature\n",
    "    openai_params['max_tokens'] = max_tokens\n",
    "    openai_params['top_p'] = top_p\n",
    "    openai_params['frequency_penalty'] = frequency_penalty\n",
    "    openai_params['presence_penalty'] = presence_penalty\n",
    "    return openai_params"
   ]
  },
  {
   "cell_type": "code",
   "execution_count": null,
   "metadata": {
    "id": "d5v0pjHivYpO"
   },
   "outputs": [],
   "source": [
    "def get_completion(params, prompt):\n",
    "    \"\"\" GET completion from openai api\"\"\"\n",
    "\n",
    "    response = openai.Completion.create(\n",
    "        engine = params['model'],\n",
    "        prompt = prompt,\n",
    "        temperature = params['temperature'],\n",
    "        max_tokens = params['max_tokens'],\n",
    "        top_p = params['top_p'],\n",
    "        frequency_penalty = params['frequency_penalty'],\n",
    "        presence_penalty = params['presence_penalty'],\n",
    "    )\n",
    "    return response"
   ]
  },
  {
   "cell_type": "code",
   "execution_count": 7,
   "metadata": {
    "id": "d5v0pjHivYpO"
   },
   "outputs": [],
   "source": [
    "def get_chat_completion(params, prompt):\n",
    "    \"\"\" GET completion from openai api\"\"\"\n",
    "\n",
    "    response = openai.ChatCompletion.create(\n",
    "        engine = params['chat_model'],\n",
    "        prompt = prompt,\n",
    "        temperature = params['temperature'],\n",
    "        max_tokens = params['max_tokens'],\n",
    "        top_p = params['top_p'],\n",
    "        frequency_penalty = params['frequency_penalty'],\n",
    "        presence_penalty = params['presence_penalty'],\n",
    "    )\n",
    "    return response"
   ]
  },
  {
   "cell_type": "markdown",
   "metadata": {
    "id": "1t6Jk6ycvYpQ"
   },
   "source": [
    "Basic prompt example:"
   ]
  },
  {
   "cell_type": "code",
   "execution_count": 1,
   "metadata": {
    "id": "Kq7L1E2TvYpS"
   },
   "outputs": [],
   "source": [
    "# basic example\n",
    "params = set_open_params()\n",
    "prompt = \"The sky is\"\n",
    "response = get_completion(params, prompt)"
   ]
  },
  {
   "cell_type": "code",
   "execution_count": 140,
   "metadata": {
    "colab": {
     "base_uri": "https://localhost:8080/",
     "height": 109
    },
    "id": "g0Z2AjdFvYpU",
    "outputId": "76725894-66bf-48f5-d791-b9fa02babcd1"
   },
   "outputs": [
    {
     "data": {
      "application/vnd.google.colaboratory.intrinsic+json": {
       "type": "string"
      },
      "text/plain": [
       "'\\n\\n[\\n  {\\n    \"Missing_Entities\": \"OpenAI, X (formerly known as Twitter), Cohere, Inflection, Meta, Palantir, Stability AI\",\\n    \"Denser_Summary\": \"Monday\\'s executive order on AI by the Biden-Harris administration follows 15 leading AI companies, including OpenAI, that made voluntary commitments to the White House. OpenAI has not commented on the order, nor have Cohere, Inflection, Meta, Palantir, and Stability AI. Adobe, Amazon, Anthropic, Google, IBM, Microsoft, Salesforce, and Scale AI expressed support. OpenAI CEO Sam Altman has been vocal about the risks of AI and advocated for regulation. However, more than 70 AI leaders recently issued a statement calling for more transparent regulation, accusing OpenAI, DeepMind, and Anthropic of using fear-mongering to achieve favorable outcomes. OpenAI\\'s AI tools may be subject to government testing and the executive order may slow down the release of new products. It signals an alignment with greater user control and protection of their data.\"\\n  },\\n  {\\n    \"Missing_Entities\": \"Leaked documents, NSA hacker, Jake Williams, Burnes Center for Social Change,'"
      ]
     },
     "execution_count": 140,
     "metadata": {},
     "output_type": "execute_result"
    }
   ],
   "source": [
    "response.choices[0].text"
   ]
  },
  {
   "cell_type": "code",
   "execution_count": 141,
   "metadata": {
    "colab": {
     "base_uri": "https://localhost:8080/",
     "height": 150
    },
    "id": "TFGCfE1fvYpY",
    "outputId": "57d5352b-8c1a-4da9-eb6d-f750e63e6c5f"
   },
   "outputs": [
    {
     "data": {
      "text/markdown": [
       "\n",
       "\n",
       "[\n",
       "  {\n",
       "    \"Missing_Entities\": \"OpenAI, X (formerly known as Twitter), Cohere, Inflection, Meta, Palantir, Stability AI\",\n",
       "    \"Denser_Summary\": \"Monday's executive order on AI by the Biden-Harris administration follows 15 leading AI companies, including OpenAI, that made voluntary commitments to the White House. OpenAI has not commented on the order, nor have Cohere, Inflection, Meta, Palantir, and Stability AI. Adobe, Amazon, Anthropic, Google, IBM, Microsoft, Salesforce, and Scale AI expressed support. OpenAI CEO Sam Altman has been vocal about the risks of AI and advocated for regulation. However, more than 70 AI leaders recently issued a statement calling for more transparent regulation, accusing OpenAI, DeepMind, and Anthropic of using fear-mongering to achieve favorable outcomes. OpenAI's AI tools may be subject to government testing and the executive order may slow down the release of new products. It signals an alignment with greater user control and protection of their data.\"\n",
       "  },\n",
       "  {\n",
       "    \"Missing_Entities\": \"Leaked documents, NSA hacker, Jake Williams, Burnes Center for Social Change,"
      ],
      "text/plain": [
       "<IPython.core.display.Markdown object>"
      ]
     },
     "execution_count": 141,
     "metadata": {},
     "output_type": "execute_result"
    }
   ],
   "source": [
    "IPython.display.Markdown(response.choices[0].text)"
   ]
  },
  {
   "cell_type": "code",
   "execution_count": 142,
   "metadata": {
    "colab": {
     "base_uri": "https://localhost:8080/",
     "height": 87
    },
    "id": "aIErfu0ZvYpb",
    "outputId": "71b5ddbd-924a-4fff-9723-58f60a89c28a"
   },
   "outputs": [
    {
     "data": {
      "text/markdown": [
       " blue\n",
       "\n",
       "The sky is blue because of the way the atmosphere scatters sunlight. When sunlight passes through the atmosphere, the blue wavelengths are scattered more than the other colors, making the sky appear blue."
      ],
      "text/plain": [
       "<IPython.core.display.Markdown object>"
      ]
     },
     "execution_count": 142,
     "metadata": {},
     "output_type": "execute_result"
    }
   ],
   "source": [
    "params = set_open_params(temperature=0)\n",
    "prompt = \"The sky is\"\n",
    "response = get_completion(params, prompt)\n",
    "IPython.display.Markdown(response.choices[0].text)"
   ]
  },
  {
   "cell_type": "code",
   "execution_count": null,
   "metadata": {
    "colab": {
     "base_uri": "https://localhost:8080/",
     "height": 64
    },
    "id": "0vxL365bvYpe",
    "outputId": "9ba0c892-8f52-4bbe-c438-785fcd794aeb"
   },
   "outputs": [
    {
     "data": {
      "text/markdown": [
       "\n",
       "Antibiotics are medications used to treat bacterial infections by either killing the bacteria or preventing them from reproducing, but are not effective against viral infections and can cause antibiotic resistance if misused."
      ],
      "text/plain": [
       "<IPython.core.display.Markdown object>"
      ]
     },
     "execution_count": 25,
     "metadata": {},
     "output_type": "execute_result"
    }
   ],
   "source": [
    "params = set_open_params(temperature=0.7)\n",
    "prompt = \"\"\"Antibiotics are a type of medication used to treat bacterial infections.\n",
    "They work by either killing the bacteria or preventing them from reproducing, allowing the body's immune system to fight off the infection.\n",
    "Antibiotics are usually taken orally in the form of pills, capsules, or liquid solutions, or sometimes administered intravenously.\n",
    "They are not effective against viral infections, and using them inappropriately can lead to antibiotic resistance.\n",
    "\n",
    "Explain the above in one sentence:\"\"\"\n",
    "\n",
    "response = get_completion(params, prompt)\n",
    "IPython.display.Markdown(response.choices[0].text)"
   ]
  },
  {
   "cell_type": "code",
   "execution_count": null,
   "metadata": {
    "colab": {
     "base_uri": "https://localhost:8080/",
     "height": 98
    },
    "id": "DKaYJG8Rx7xP",
    "outputId": "99a08fa7-5475-47c2-c0c0-3c7eb6a74d4f"
   },
   "outputs": [
    {
     "data": {
      "text/markdown": [
       "\n",
       "\n",
       "Antibiotics are special medicines that doctors give to help fight off bad bacteria that makes people sick. They work by either killing the bad bacteria or stopping it from making more of itself, which lets the body's own defenses take care of the infection. Antibiotics come in different forms like pills, capsules, or liquids, and you can take them by mouth or get them through a tube in your arm. They don't work on illnesses caused by viruses, and if you use them when you don't need them, the bad bacteria can get stronger and harder to treat."
      ],
      "text/plain": [
       "<IPython.core.display.Markdown object>"
      ]
     },
     "execution_count": 26,
     "metadata": {},
     "output_type": "execute_result"
    }
   ],
   "source": [
    "params = set_open_params(temperature=0.7)\n",
    "prompt = \"\"\"Antibiotics are a type of medication used to treat bacterial infections.\n",
    "They work by either killing the bacteria or preventing them from reproducing, allowing the body's immune system to fight off the infection.\n",
    "Antibiotics are usually taken orally in the form of pills, capsules, or liquid solutions, or sometimes administered intravenously.\n",
    "They are not effective against viral infections, and using them inappropriately can lead to antibiotic resistance.\n",
    "\n",
    "Explain the above like I'm 5:\"\"\"\n",
    "\n",
    "response = get_completion(params, prompt)\n",
    "IPython.display.Markdown(response.choices[0].text)"
   ]
  },
  {
   "cell_type": "code",
   "execution_count": null,
   "metadata": {
    "colab": {
     "base_uri": "https://localhost:8080/",
     "height": 46
    },
    "id": "Uu_WvO11vYpi",
    "outputId": "7d00fff1-3495-4a3f-f1b9-82b16e28a90f"
   },
   "outputs": [
    {
     "data": {
      "text/markdown": [
       " Snake."
      ],
      "text/plain": [
       "<IPython.core.display.Markdown object>"
      ]
     },
     "execution_count": 28,
     "metadata": {},
     "output_type": "execute_result"
    }
   ],
   "source": [
    "prompt = \"\"\"\n",
    "Answer the question based on the context below. Keep the answer short and concise.\n",
    "Respond \"Unsure about answer\" if not sure about the answer.\n",
    "\n",
    "Context: Teplizumab traces its roots to a New Jersey drug company called Ortho Pharmaceutical.\n",
    "There, scientists generated an early version of the antibody, dubbed OKT3.\n",
    "Originally sourced from mice, the molecule was able to bind to the surface of T cells and limit their cell-killing potential.\n",
    "In 1986, it was approved to help prevent organ rejection after kidney transplants, making it the first therapeutic antibody allowed for human use.\n",
    "\n",
    "Question: What was OKT3 originally sourced from?\n",
    "\n",
    "Answer:\"\"\"\n",
    "\n",
    "response = get_completion(params, prompt)\n",
    "IPython.display.Markdown(response.choices[0].text)\n"
   ]
  },
  {
   "cell_type": "code",
   "execution_count": 154,
   "metadata": {
    "colab": {
     "base_uri": "https://localhost:8080/",
     "height": 46
    },
    "id": "JLe3ebDxvYpm",
    "outputId": "6379eec2-7683-459e-88b1-b016b9e11149"
   },
   "outputs": [
    {
     "data": {
      "text/markdown": [
       "\n",
       "Text 1: Positive\n",
       "Text 2: Negative\n",
       "Text 3: Positive\n",
       "Text 4: Positive"
      ],
      "text/plain": [
       "<IPython.core.display.Markdown object>"
      ]
     },
     "execution_count": 154,
     "metadata": {},
     "output_type": "execute_result"
    }
   ],
   "source": [
    "prompt = \"\"\"Classify the text into neutral, negative or positive.\n",
    "\n",
    "Text 1: The movie was bloody good\n",
    "Text 2: The movie was so nice that I walked out in 1 minute\n",
    "Text 3: Inspite of haters trying to put down Leo, it still managed to break the box office collections of Jailer.\n",
    "Text 4: His last movie was great\n",
    "\n",
    "Sentiment: \"\"\"\n",
    "\n",
    "response = get_completion(params, prompt)\n",
    "IPython.display.Markdown(response.choices[0].text)"
   ]
  },
  {
   "cell_type": "code",
   "execution_count": null,
   "metadata": {
    "id": "fZxv5SN7oZix"
   },
   "outputs": [],
   "source": [
    "from langchain.chat_models import ChatOpenAI\n",
    "llm = ChatOpenAI(model=\"gpt-3.5-turbo\",max_tokens=25)\n",
    "IPython.display.Markdown(llm.invoke(prompt).content)"
   ]
  },
  {
   "cell_type": "code",
   "execution_count": 152,
   "metadata": {
    "colab": {
     "base_uri": "https://localhost:8080/",
     "height": 46
    },
    "id": "O3BeeoXFpJPH",
    "outputId": "1e46bd51-ff42-49ca-d4a4-e116ab2747dc"
   },
   "outputs": [
    {
     "data": {
      "text/markdown": [
       "Text 1: Positive\n",
       "Text 2: Negative\n",
       "Text 3: Positive"
      ],
      "text/plain": [
       "<IPython.core.display.Markdown object>"
      ]
     },
     "execution_count": 152,
     "metadata": {},
     "output_type": "execute_result"
    }
   ],
   "source": [
    "from langchain.chat_models import ChatOpenAI\n",
    "llm = ChatOpenAI(model=\"gpt-4\",max_tokens=25)\n",
    "IPython.display.Markdown(llm.invoke(prompt).content)"
   ]
  },
  {
   "cell_type": "code",
   "execution_count": null,
   "metadata": {
    "colab": {
     "base_uri": "https://localhost:8080/",
     "height": 81
    },
    "id": "dD6L7rKDvYpo",
    "outputId": "6a6da51f-2565-4eec-829f-b8d1a1cc5b9a"
   },
   "outputs": [
    {
     "data": {
      "text/markdown": [
       " Sure! A black hole is created when a massive star runs out of fuel and can no longer support itself against its own gravity. The result is a collapse of the star, leading to the formation of a black hole. The mass of the star is compressed into a single point, resulting in a region of space-time from which not even light can escape. This is known as an event horizon."
      ],
      "text/plain": [
       "<IPython.core.display.Markdown object>"
      ]
     },
     "execution_count": 30,
     "metadata": {},
     "output_type": "execute_result"
    }
   ],
   "source": [
    "prompt = \"\"\"The following is a conversation with an AI research assistant. The assistant tone is technical and scientific.\n",
    "\n",
    "Human: Hello, who are you?\n",
    "AI: Greeting! I am an AI research assistant. How can I help you today?\n",
    "Human: Can you tell me about the creation of blackholes?\n",
    "AI:\"\"\"\n",
    "\n",
    "response = get_completion(params, prompt)\n",
    "IPython.display.Markdown(response.choices[0].text)"
   ]
  },
  {
   "cell_type": "code",
   "execution_count": null,
   "metadata": {
    "colab": {
     "base_uri": "https://localhost:8080/",
     "height": 64
    },
    "id": "k7PgjYfpvYpr",
    "outputId": "5baf508c-bfac-48e1-dd94-7f7c54bcea2b"
   },
   "outputs": [
    {
     "data": {
      "text/markdown": [
       "\n",
       "SELECT StudentId, StudentName \n",
       "FROM students\n",
       "WHERE DepartmentId = (SELECT DepartmentId FROM departments WHERE DepartmentName = 'Computer Science');"
      ],
      "text/plain": [
       "<IPython.core.display.Markdown object>"
      ]
     },
     "execution_count": 31,
     "metadata": {},
     "output_type": "execute_result"
    }
   ],
   "source": [
    "prompt = \"\\\"\\\"\\\"\\nTable departments, columns = [DepartmentId, DepartmentName]\\nTable students, columns = [DepartmentId, StudentId, StudentName]\\nCreate a MySQL query for all students in the Computer Science Department\\n\\\"\\\"\\\"\"\n",
    "\n",
    "response = get_completion(params, prompt)\n",
    "IPython.display.Markdown(response.choices[0].text)\n"
   ]
  },
  {
   "cell_type": "code",
   "execution_count": null,
   "metadata": {
    "colab": {
     "base_uri": "https://localhost:8080/",
     "height": 46
    },
    "id": "S30ZM0CQ4wex",
    "outputId": "c9165cee-abf6-4a64-ede8-1e0082e15a2f"
   },
   "outputs": [
    {
     "data": {
      "text/markdown": [
       "\n",
       "\n",
       "False"
      ],
      "text/plain": [
       "<IPython.core.display.Markdown object>"
      ]
     },
     "execution_count": 40,
     "metadata": {},
     "output_type": "execute_result"
    }
   ],
   "source": [
    "prompt = \"\"\"Say True or False. The odd numbers in this group add up to an even number: 15, 32, 5, 3, 13, 82, 7, 1\"\"\"\n",
    "\n",
    "response = get_completion(params, prompt)\n",
    "IPython.display.Markdown(response.choices[0].text)"
   ]
  },
  {
   "cell_type": "code",
   "execution_count": null,
   "metadata": {
    "colab": {
     "base_uri": "https://localhost:8080/",
     "height": 70
    },
    "id": "D5ZZPv46vYpu",
    "outputId": "b97e357f-c9b2-458e-dc2c-dae97d48f1cd"
   },
   "outputs": [
    {
     "data": {
      "text/markdown": [
       ".\n",
       "\n",
       "Odd numbers: 15, 5, 3, 13, 7, 1 \n",
       "Sum of odd numbers: 44 \n",
       "True (44 is an even number)"
      ],
      "text/plain": [
       "<IPython.core.display.Markdown object>"
      ]
     },
     "execution_count": 41,
     "metadata": {},
     "output_type": "execute_result"
    }
   ],
   "source": [
    "prompt = \"\"\"Say True or False. The odd numbers in this group add up to an even number: 15, 32, 5, 3, 13, 82, 7, 1\n",
    "\n",
    "Solve by breaking the problem into steps. First, identify the odd numbers, add them, and indicate whether the result is odd or even. Finally say True or False\"\"\"\n",
    "\n",
    "response = get_completion(params, prompt)\n",
    "IPython.display.Markdown(response.choices[0].text)"
   ]
  },
  {
   "cell_type": "markdown",
   "metadata": {
    "id": "49cWAob-vYpv"
   },
   "source": [
    "Exercise: Improve the prompt to have a better structure and output format."
   ]
  },
  {
   "cell_type": "markdown",
   "metadata": {
    "id": "Xq20ofRjvYpw"
   },
   "source": [
    "### Advanced Prompting Techniques\n",
    "\n",
    "few-shot, chain-of-thoughts,..."
   ]
  },
  {
   "cell_type": "code",
   "execution_count": null,
   "metadata": {
    "colab": {
     "base_uri": "https://localhost:8080/",
     "height": 46
    },
    "id": "OvnN4I7_vYpy",
    "outputId": "fcca6f18-09bf-446b-88ae-08ae0f0ea1e6"
   },
   "outputs": [
    {
     "data": {
      "text/markdown": [
       " The answer is True."
      ],
      "text/plain": [
       "<IPython.core.display.Markdown object>"
      ]
     },
     "execution_count": 43,
     "metadata": {},
     "output_type": "execute_result"
    }
   ],
   "source": [
    "prompt = \"\"\"The odd numbers in this group add up to an even number: 4, 8, 9, 15, 12, 2, 1.\n",
    "A: The answer is False.\n",
    "\n",
    "The odd numbers in this group add up to an even number: 17,  10, 19, 4, 8, 12, 24.\n",
    "A: The answer is True.\n",
    "\n",
    "The odd numbers in this group add up to an even number: 16,  11, 14, 4, 8, 13, 24.\n",
    "A: The answer is True.\n",
    "\n",
    "The odd numbers in this group add up to an even number: 17,  9, 10, 12, 13, 4, 2.\n",
    "A: The answer is False.\n",
    "\n",
    "The odd numbers in this group add up to an even number: 15, 32, 5, 13, 82, 7, 1.\n",
    "A:\"\"\"\n",
    "\n",
    "response = get_completion(params, prompt)\n",
    "IPython.display.Markdown(response.choices[0].text)"
   ]
  },
  {
   "cell_type": "markdown",
   "metadata": {
    "id": "VxJw664XvYpz"
   },
   "source": [
    "### Chain-of-Thought (CoT) Prompting"
   ]
  },
  {
   "cell_type": "code",
   "execution_count": null,
   "metadata": {
    "colab": {
     "base_uri": "https://localhost:8080/",
     "height": 46
    },
    "id": "-OxMP1VdvYp0",
    "outputId": "9c32b301-e54d-487a-ac1d-9d3064393fc6"
   },
   "outputs": [
    {
     "data": {
      "text/markdown": [
       " Adding all the odd numbers (15, 5, 13, 7, 1) gives 41. The answer is False."
      ],
      "text/plain": [
       "<IPython.core.display.Markdown object>"
      ]
     },
     "execution_count": 44,
     "metadata": {},
     "output_type": "execute_result"
    }
   ],
   "source": [
    "prompt = \"\"\"The odd numbers in this group add up to an even number: 4, 8, 9, 15, 12, 2, 1.\n",
    "A: Adding all the odd numbers (9, 15, 1) gives 25. The answer is False.\n",
    "\n",
    "The odd numbers in this group add up to an even number: 15, 32, 5, 13, 82, 7, 1.\n",
    "A:\"\"\"\n",
    "\n",
    "response = get_completion(params, prompt)\n",
    "IPython.display.Markdown(response.choices[0].text)"
   ]
  },
  {
   "cell_type": "markdown",
   "metadata": {
    "id": "vJjVCWhevYp0"
   },
   "source": [
    "### Zero-shot CoT"
   ]
  },
  {
   "cell_type": "code",
   "execution_count": null,
   "metadata": {
    "colab": {
     "base_uri": "https://localhost:8080/",
     "height": 116
    },
    "id": "PTLuF3CVvYp3",
    "outputId": "f7621436-06fe-41bc-803f-c16edb34dfa8"
   },
   "outputs": [
    {
     "data": {
      "text/markdown": [
       " \n",
       "\n",
       "Initially, you bought 10 apples. \n",
       "\n",
       "You gave away 4 apples, so you are left with 6 apples. \n",
       "\n",
       "You bought 5 more, so you now have 11 apples. \n",
       "\n",
       "You ate 1 apple, leaving you with 10 apples."
      ],
      "text/plain": [
       "<IPython.core.display.Markdown object>"
      ]
     },
     "execution_count": 50,
     "metadata": {},
     "output_type": "execute_result"
    }
   ],
   "source": [
    "prompt = \"\"\"I went to the market and bought 10 apples. I gave 2 apples to the neighbor and 2 to the repairman.\n",
    "I then went and bought 5 more apples and ate 1. How many apples did I remain with?\n",
    "\n",
    "Let's think step by step.\"\"\"\n",
    "\n",
    "response = get_completion(params, prompt)\n",
    "IPython.display.Markdown(response.choices[0].text)"
   ]
  },
  {
   "cell_type": "markdown",
   "metadata": {
    "id": "HHJh6UZv7KJh"
   },
   "source": [
    "See what happens if we do not add that one magical line \"Let's this step by step\"\n",
    "![image.png](data:image/png;base64,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)"
   ]
  },
  {
   "cell_type": "markdown",
   "metadata": {
    "id": "pLVQLEKDvYp4"
   },
   "source": [
    "### Generate Knowledge Prompting\n"
   ]
  },
  {
   "cell_type": "code",
   "execution_count": null,
   "metadata": {
    "colab": {
     "base_uri": "https://localhost:8080/",
     "height": 46
    },
    "id": "vzuzsRMFMlZm",
    "outputId": "12a97c3a-0d80-4bdc-e6e5-d8f26f5ff32c"
   },
   "outputs": [
    {
     "data": {
      "text/markdown": [
       "\n",
       "\n",
       "Yes."
      ],
      "text/plain": [
       "<IPython.core.display.Markdown object>"
      ]
     },
     "execution_count": 51,
     "metadata": {},
     "output_type": "execute_result"
    }
   ],
   "source": [
    "prompt = \"\"\"Part of golf is trying to get a higher point total than others. Yes or No?\"\"\"\n",
    "\n",
    "response = get_completion(params, prompt)\n",
    "IPython.display.Markdown(response.choices[0].text)"
   ]
  },
  {
   "cell_type": "code",
   "execution_count": null,
   "metadata": {
    "colab": {
     "base_uri": "https://localhost:8080/",
     "height": 81
    },
    "id": "jpT-Nb5EMwbl",
    "outputId": "90e61bf4-6218-4d18-b956-7d6d7577d06e"
   },
   "outputs": [
    {
     "data": {
      "text/markdown": [
       " In golf, the goal is to complete the course in the fewest number of strokes. The total number of strokes taken is a player’s score. The lower the score, the better. Players compete against each other or the course by trying to get a lower score than their opponents or the course par, which is the expected number of strokes for a given hole."
      ],
      "text/plain": [
       "<IPython.core.display.Markdown object>"
      ]
     },
     "execution_count": 52,
     "metadata": {},
     "output_type": "execute_result"
    }
   ],
   "source": [
    "prompt = \"\"\"Input: Greece is larger than mexico.\n",
    "Knowledge: Greece is approximately 131,957 sq km, while Mexico is approximately 1,964,375 sq km, making Mexico 1,389% larger than Greece.\n",
    "\n",
    "Input: Glasses always fog up.\n",
    "Knowledge: Condensation occurs on eyeglass lenses when water vapor from your sweat, breath, and ambient humidity lands on a cold surface, cools, and then changes into tiny drops of liquid, forming a film that you see as fog. Your lenses will be relatively cool compared to your breath, especially when the outside air is cold.\n",
    "\n",
    "Input: A fish is capable of thinking.\n",
    "Knowledge: Fish are more intelligent than they appear. In many areas, such as memory, their cognitive powers match or exceed those of ’higher’ vertebrates including non-human primates. Fish’s long-term memories help them keep track of complex social relationships.\n",
    "\n",
    "Input: A common effect of smoking lots of cigarettes in one’s lifetime is a higher than normal chance of getting lung cancer.\n",
    "Knowledge: Those who consistently averaged less than one cigarette per day over their lifetime had nine times the risk of dying from lung cancer than never smokers. Among people who smoked between one and 10 cigarettes per day, the risk of dying from lung cancer was nearly 12 times higher than that of never smokers.\n",
    "\n",
    "Input: A rock is the same size as a pebble.\n",
    "Knowledge: A pebble is a clast of rock with a particle size of 4 to 64 millimetres based on the Udden-Wentworth scale of sedimentology. Pebbles are generally considered larger than granules (2 to 4 millimetres diameter) and smaller than cobbles (64 to 256 millimetres diameter).\n",
    "\n",
    "Input: Part of golf is trying to get a higher point total than others.\n",
    "Knowledge:\"\"\"\n",
    "\n",
    "response = get_completion(params, prompt)\n",
    "IPython.display.Markdown(response.choices[0].text)"
   ]
  },
  {
   "cell_type": "code",
   "execution_count": null,
   "metadata": {
    "colab": {
     "base_uri": "https://localhost:8080/",
     "height": 64
    },
    "id": "Zqtil6wjNTrh",
    "outputId": "c1fa7fcb-c868-4ff5-bb04-f7e8cc40e410"
   },
   "outputs": [
    {
     "data": {
      "text/markdown": [
       " The game of golf is played by trying to hit a ball into a hole using various types of clubs in the fewest number of strokes. The winner of a golf match is the player with the lowest total strokes at the end of the game."
      ],
      "text/plain": [
       "<IPython.core.display.Markdown object>"
      ]
     },
     "execution_count": 54,
     "metadata": {},
     "output_type": "execute_result"
    }
   ],
   "source": [
    "prompt = \"\"\"Input: Greece is larger than mexico.\n",
    "Knowledge: Greece is approximately 131,957 sq km, while Mexico is approximately 1,964,375 sq km, making Mexico 1,389% larger than Greece.\n",
    "\n",
    "Input: Glasses always fog up.\n",
    "Knowledge: Condensation occurs on eyeglass lenses when water vapor from your sweat, breath, and ambient humidity lands on a cold surface, cools, and then changes into tiny drops of liquid, forming a film that you see as fog. Your lenses will be relatively cool compared to your breath, especially when the outside air is cold.\n",
    "\n",
    "Input: A fish is capable of thinking.\n",
    "Knowledge: Fish are more intelligent than they appear. In many areas, such as memory, their cognitive powers match or exceed those of ’higher’ vertebrates including non-human primates. Fish’s long-term memories help them keep track of complex social relationships.\n",
    "\n",
    "Input: A common effect of smoking lots of cigarettes in one’s lifetime is a higher than normal chance of getting lung cancer.\n",
    "Knowledge: Those who consistently averaged less than one cigarette per day over their lifetime had nine times the risk of dying from lung cancer than never smokers. Among people who smoked between one and 10 cigarettes per day, the risk of dying from lung cancer was nearly 12 times higher than that of never smokers.\n",
    "\n",
    "Input: A rock is the same size as a pebble.\n",
    "Knowledge: A pebble is a clast of rock with a particle size of 4 to 64 millimetres based on the Udden-Wentworth scale of sedimentology. Pebbles are generally considered larger than granules (2 to 4 millimetres diameter) and smaller than cobbles (64 to 256 millimetres diameter).\n",
    "\n",
    "Input: Part of golf is trying to get a higher point total than others.\n",
    "Knowledge:\"\"\"\n",
    "\n",
    "response = get_completion(params, prompt)\n",
    "IPython.display.Markdown(response.choices[0].text)"
   ]
  },
  {
   "cell_type": "code",
   "execution_count": null,
   "metadata": {
    "colab": {
     "base_uri": "https://localhost:8080/",
     "height": 46
    },
    "id": "nyNBAO0jNuHY",
    "outputId": "7f572f51-9996-404e-91f9-958107dd428c"
   },
   "outputs": [
    {
     "data": {
      "text/markdown": [
       " No, the objective of golf is to play a set of holes in the least number of strokes. Points are not used to determine the winner of the game."
      ],
      "text/plain": [
       "<IPython.core.display.Markdown object>"
      ]
     },
     "execution_count": 55,
     "metadata": {},
     "output_type": "execute_result"
    }
   ],
   "source": [
    "prompt = \"\"\"Question: Part of golf is trying to get a higher point total than others. Yes or No?\n",
    "\n",
    "Knowledge: The objective of golf is to play a set of holes in the least number of strokes. A round of golf typically consists of 18 holes. Each hole is played once in the round on a standard golf course. Each stroke is counted as one point, and the total number of strokes is used to determine the winner of the game.\n",
    "\n",
    "Explain and Answer: \"\"\"\n",
    "\n",
    "response = get_completion(params, prompt)\n",
    "IPython.display.Markdown(response.choices[0].text)"
   ]
  }
 ],
 "metadata": {
  "colab": {
   "include_colab_link": true,
   "provenance": []
  },
  "kernelspec": {
   "display_name": "Python 3 (ipykernel)",
   "language": "python",
   "name": "python3"
  },
  "language_info": {
   "codemirror_mode": {
    "name": "ipython",
    "version": 3
   },
   "file_extension": ".py",
   "mimetype": "text/x-python",
   "name": "python",
   "nbconvert_exporter": "python",
   "pygments_lexer": "ipython3",
   "version": "3.11.3"
  },
  "vscode": {
   "interpreter": {
    "hash": "f38e0373277d6f71ee44ee8fea5f1d408ad6999fda15d538a69a99a1665a839d"
   }
  }
 },
 "nbformat": 4,
 "nbformat_minor": 1
}
